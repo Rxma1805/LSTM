{
 "cells": [
  {
   "cell_type": "markdown",
   "metadata": {},
   "source": [
    "$\\left[ A \\atop B \\right]$"
   ]
  },
  {
   "cell_type": "markdown",
   "metadata": {},
   "source": [
    "$\\left[ X_{t1} \\quad X_{t2}\\quad X_{t3}\\quad X_{t4}  \\atop  H_{(t-1)(1)} H_{(t-1)(2)} H_{(t-1)(3)} H_{(t-1)(4)} \\right]$"
   ]
  },
  {
   "cell_type": "markdown",
   "metadata": {},
   "source": [
    "$\\left[X_t \\atop H_{t-1}\\right]$"
   ]
  },
  {
   "cell_type": "markdown",
   "metadata": {},
   "source": [
    "$\\left[{W_{11} \\quad W_{12}\\atop W_{21}\\quad W_{22}} \\atop {{W_{31}\\quad W_{32}} \\atop W_{41}\\quad W_{42}} \\right]$"
   ]
  },
  {
   "cell_type": "markdown",
   "metadata": {},
   "source": [
    "$\\left[{{W_{11} \\quad W_{12}\\atop W_{21}\\quad W_{22}} \\atop {{W_{31}\\quad W_{32}} \\atop W_{41}\\quad W_{42}}} \\atop {{W_{51} \\quad W_{52}\\atop W_{61}\\quad W_{62}} \\atop {{W_{71}\\quad W_{72}} \\atop W_{81}\\quad W_{82}}} \\right]$"
   ]
  },
  {
   "cell_type": "markdown",
   "metadata": {},
   "source": [
    "$$W_{11} W_{21}\\atop W_{11} W_{21}$ \\atop W_{11} W_{21}$"
   ]
  },
  {
   "cell_type": "markdown",
   "metadata": {},
   "source": [
    "${a}$"
   ]
  },
  {
   "cell_type": "markdown",
   "metadata": {},
   "source": [
    "$\\left[\n",
    "{\n",
    " \\begin{matrix}\n",
    "   W_{11} & W_{12}  \\\\\n",
    "   W_{21} & W_{22}  \\\\\n",
    "   W_{31} & W_{32} \\\\\n",
    "   W_{41} & W_{42}\n",
    "  \\end{matrix} \n",
    "}\n",
    "\\right]$"
   ]
  },
  {
   "cell_type": "markdown",
   "metadata": {},
   "source": [
    " $\\frac{dF}{dW_{1}} $ = $\\frac{dF}{dY_{i2}} $ $\\cdot$ $\\frac{dF}{dW_{1}} $ $\\cdot$ $\\frac{dF}{dW_{1}} $"
   ]
  },
  {
   "cell_type": "markdown",
   "metadata": {},
   "source": [
    "$W_{3}$ = $W_{3}$ - $\\alpha \\cdot \\frac{dF}{dW_{3}} $"
   ]
  },
  {
   "cell_type": "markdown",
   "metadata": {},
   "source": [
    "$W_{3}$ = $W_{3}$ - $\\alpha \\cdot \\frac{dY_{3i}}{dF_{3}} \\cdot \\frac{dF_{3}}{dW_{3}} $  \n",
    "$W_{2}$ = $W_{2}$ - $\\alpha \\cdot \\frac{dY_{3i}}{dF_{3}} \\cdot \\frac{dF_{3}}{dY_{2i}} \\cdot \\frac{dY_{2i}}{dF_{2}} \\cdot \\frac{dF_{2}}{dW_{2}}$   \n",
    "$W_{1}$ = $W_{1}$ - $\\alpha \\cdot \\frac{dY_{3i}}{dF_{3}} \\cdot \\frac{dF_{3}}{dY_{2i}} \\cdot \\frac{dY_{2i}}{dF_{2}} \\cdot \\frac{dF_{2}}{dY_{1i}}\\cdot \\frac{dY_{1i}}{dF_{1}}\\cdot \\frac{dF_{1}}{dW_{1}}$   "
   ]
  },
  {
   "cell_type": "markdown",
   "metadata": {},
   "source": [
    "$W_{2}$ = $W_{2}$ - $\\alpha \\cdot \\frac{dY}{dF_{3}} \\cdot \\frac{dF_{3}}{dY_{2i}} \\cdot \\frac{dY_{2i}}{dF_{2}} \\cdot \\frac{dF_{2}}{dY_{2i}}\\cdot \\frac{dY_{2i}}{dF_{1}}\\cdot \\frac{dF_{1}}{dW_{1}}$ "
   ]
  },
  {
   "cell_type": "markdown",
   "metadata": {},
   "source": [
    "$$\n",
    " \\begin{matrix}\n",
    "   a & b & c & d & e\\\\\n",
    "   f & g & h & i & j \\\\\n",
    "   k & l & m & n & o \\\\\n",
    "   p & q & r & s & t\n",
    "  \\end{matrix} \n",
    "$$\n"
   ]
  },
  {
   "cell_type": "markdown",
   "metadata": {},
   "source": [
    "$z$ = tanh( $W$ $\\cdot$ $  X_t \\choose H_{t-1} $) \n",
    "\n",
    "$z_i$ = $\\sigma$( $W_i$ $\\cdot$ $  X_t \\choose H_{t-1} $)\n",
    "\n",
    "$z_f$ = $\\sigma$( $W_f$ $\\cdot$ $  X_t \\choose H_{t-1} $) \n",
    "\n",
    "$z_o$ = $\\sigma$( $W_o$ $\\cdot$ $  X_t \\choose H_{t-1} $) \n"
   ]
  },
  {
   "cell_type": "markdown",
   "metadata": {},
   "source": [
    "${a_t  \\choose b_{t-1}$ }$"
   ]
  },
  {
   "cell_type": "markdown",
   "metadata": {},
   "source": [
    "$C_t$ = $z_f$⊙$C_{t-1}$ + $z_i$⊙z  \n",
    "$H_t$ = $z_o$⊙$tanh(C_t)$  \n",
    "$Y_t$ = $\\sigma$($W'$$H_t$)\n",
    "\n",
    "\n",
    "\n",
    "⊕\n"
   ]
  },
  {
   "cell_type": "markdown",
   "metadata": {},
   "source": [
    "$C'_t$ = $\\sigma$( $W'_f$ $\\cdot$ $  X_t \\choose H'_{t-1} $)  ⊙ $C'_{t-1}$ + $\\sigma$( $W'_i$ $\\cdot$ $  X_t \\choose H'_{t-1} $)⊙ tanh( $W'$ $\\cdot$ $  X_t \\choose H'_{t-1} $)   \n",
    " \n",
    "$H'_t$ = $\\sigma$( $W'_o$ $\\cdot$ $  X_t \\choose H'_{t-1} $) ⊙ tanh($C'_t$ ⊙ tanh( $W'$ $\\cdot$ $  X_t \\choose H'_{t-1}$ ) \n",
    "\n",
    "\n",
    "\n",
    "\n",
    "$C_t$ = $\\sigma$( $W_f$ $\\cdot$ $ H'_t \\choose H_{t-1} $)  ⊙ $C_{t-1}$ + $\\sigma$( $W_i$ $\\cdot$ $ H'_t \\choose H_{t-1} $)⊙ tanh( $W$ $\\cdot$ $  H'_t \\choose H_{t-1} $)   \n",
    "\n",
    "$H_t$ = $\\sigma$( $W_o$ $\\cdot$ $  H'_t \\choose H_{t-1} $) ⊙ tanh($C_t$ ⊙ tanh( $W$ $\\cdot$ $  H'_t \\choose H_{t-1}$ ) \n",
    "\n",
    "$Y_t$ = $\\sigma$($W'' H_t$) \n",
    "\n"
   ]
  },
  {
   "cell_type": "markdown",
   "metadata": {},
   "source": [
    "$\\left$"
   ]
  }
 ],
 "metadata": {
  "kernelspec": {
   "display_name": "Python3.6",
   "language": "python",
   "name": "python3.6"
  },
  "language_info": {
   "codemirror_mode": {
    "name": "ipython",
    "version": 3
   },
   "file_extension": ".py",
   "mimetype": "text/x-python",
   "name": "python",
   "nbconvert_exporter": "python",
   "pygments_lexer": "ipython3",
   "version": "3.6.8"
  }
 },
 "nbformat": 4,
 "nbformat_minor": 2
}
